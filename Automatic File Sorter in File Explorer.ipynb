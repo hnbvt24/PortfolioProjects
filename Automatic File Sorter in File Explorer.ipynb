{
 "cells": [
  {
   "cell_type": "markdown",
   "id": "8cffeba7",
   "metadata": {},
   "source": [
    "# Automatic File Sorter in File Explorer"
   ]
  },
  {
   "cell_type": "code",
   "execution_count": 35,
   "id": "cf6697ff",
   "metadata": {},
   "outputs": [],
   "source": [
    "# operating system and ability to conduct high level operations on files\n",
    "import os, shutil"
   ]
  },
  {
   "cell_type": "code",
   "execution_count": 36,
   "id": "c8d233cd",
   "metadata": {},
   "outputs": [],
   "source": [
    "# use the r before the string to create a 'raw string'\n",
    "path = r\"/Users/haleybengtson/Anatta Dropbox/Haley Bengtson/My Mac (anatta’s MacBook Pro)/Desktop/Anatta/Python Tutorial/\""
   ]
  },
  {
   "cell_type": "code",
   "execution_count": 37,
   "id": "69781907",
   "metadata": {},
   "outputs": [],
   "source": [
    "# look to see what files are in our path and if there are folders in our path already\n",
    "file_name = os.listdir(path)"
   ]
  },
  {
   "cell_type": "code",
   "execution_count": 38,
   "id": "4765cf14",
   "metadata": {},
   "outputs": [],
   "source": [
    "# create folders for our different types of files we have\n",
    "folder_names = ['csv files', 'image files', 'text files']\n",
    "\n",
    "for folder in range(0,3):\n",
    "    if not os.path.exists(path + folder_names[folder]):\n",
    "        print(path + folder_names[folder])\n",
    "        os.makedirs(path + folder_names[folder])"
   ]
  },
  {
   "cell_type": "code",
   "execution_count": 39,
   "id": "0135a5b7",
   "metadata": {},
   "outputs": [],
   "source": [
    "# for each file in the folder, we want to move them to their respective folders based on their file type\n",
    "for file in file_name:\n",
    "    if \".csv\" in file and not os.path.exists(path + \"csv files/\" + file):\n",
    "        shutil.move(path + file, path + \"csv files/\" + file)\n",
    "    elif (\".jpeg\" in file or \".jpg\" in file or \".png\" in file) and not os.path.exists(path + \"image files/\" + file):\n",
    "        shutil.move(path + file, path + \"image files/\" + file)\n",
    "    elif (\".txt\" in file or \".pdf\" in file) and not os.path.exists(path + \"text files/\" + file):\n",
    "        shutil.move(path + file, path + \"text files/\" + file)\n",
    "    else:\n",
    "        continue"
   ]
  }
 ],
 "metadata": {
  "kernelspec": {
   "display_name": "Python 3 (ipykernel)",
   "language": "python",
   "name": "python3"
  },
  "language_info": {
   "codemirror_mode": {
    "name": "ipython",
    "version": 3
   },
   "file_extension": ".py",
   "mimetype": "text/x-python",
   "name": "python",
   "nbconvert_exporter": "python",
   "pygments_lexer": "ipython3",
   "version": "3.11.5"
  }
 },
 "nbformat": 4,
 "nbformat_minor": 5
}
