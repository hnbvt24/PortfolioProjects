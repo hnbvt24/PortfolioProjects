{
 "cells": [
  {
   "cell_type": "markdown",
   "id": "df9d922a",
   "metadata": {},
   "source": [
    "# BMI Calculator"
   ]
  },
  {
   "cell_type": "markdown",
   "id": "14bd9fcf",
   "metadata": {},
   "source": [
    "Reference: https://www.cdc.gov/healthyweight/assessing/bmi/adult_bmi/english_bmi_calculator/bmi_calculator.html"
   ]
  },
  {
   "cell_type": "code",
   "execution_count": 1,
   "id": "e67c8d20",
   "metadata": {},
   "outputs": [
    {
     "name": "stdout",
     "output_type": "stream",
     "text": [
      "Enter your name: Haley\n",
      "Enter your weight in pounds: 170\n",
      "Enter your height in inches: 71\n",
      "Your BMI is 23.7\n",
      "\n",
      "Haley, your weight is in the Healthy Weight category for adults of your height. You are just right!\n",
      "\n",
      "\n",
      "BMI is a screening measure and is not intended to diagnose disease or illness. For more information, visit About Adult BMI.(see link below)\n",
      "Maintaining a weight in the healthy BMI range is one way to support overall health as you age. For more information about lifestyle approaches, visit Healthy Weight.(see link below)\n",
      "\n",
      "About Adult BMI: https://www.cdc.gov/healthyweight/assessing/bmi/adult_bmi/index.html\n",
      "Healthy Weight: https://www.cdc.gov/healthyweight/index.html\n",
      "\n"
     ]
    }
   ],
   "source": [
    "# Here we're asking the user to enter in some information about themselves: Name, Weight, Height\n",
    "\n",
    "name = input(\"Enter your name: \")\n",
    "\n",
    "weight = int(input(\"Enter your weight in pounds: \"))\n",
    "\n",
    "height = int(input(\"Enter your height in inches: \"))\n",
    "\n",
    "\n",
    "# Next we calculate the inputs of weight and height to get the BMI calculation\n",
    "\n",
    "BMI = round((weight * 703) / (height * height),1)\n",
    "\n",
    "\n",
    "# Then we print their respective result with a statement of wheree their BMI lies within the range of weight categories.\n",
    "\n",
    "print(\"Your BMI is\", BMI)\n",
    "print()\n",
    "\n",
    "if BMI > 0:\n",
    "    if (BMI < 18.5):\n",
    "        print(name + ', your weight is in the Underweight category for adults of your height. You may need to see your doctor to discuss your weight.')\n",
    "    elif (BMI <= 24.9):\n",
    "        print(name + ', your weight is in the Healthy Weight category for adults of your height. You are just right!')\n",
    "    elif (BMI <= 29.9):\n",
    "        print(name + ', your weight is in the Overweight category for adults of your height. Starting focusing more on your diet and becoming a little more active.')\n",
    "    else:\n",
    "        print(name + ', your weight is in the Above Obesity category for adults of your height. You need to exercise more and stop writing so many Python functions.')\n",
    "\n",
    "print()\n",
    "print(\"\"\"\n",
    "BMI is a screening measure and is not intended to diagnose disease or illness. For more information, visit About Adult BMI.(see link below)\n",
    "Maintaining a weight in the healthy BMI range is one way to support overall health as you age. For more information about lifestyle approaches, visit Healthy Weight.(see link below)\n",
    "\n",
    "About Adult BMI: https://www.cdc.gov/healthyweight/assessing/bmi/adult_bmi/index.html\n",
    "Healthy Weight: https://www.cdc.gov/healthyweight/index.html\n",
    "\"\"\"\n",
    "     )"
   ]
  }
 ],
 "metadata": {
  "kernelspec": {
   "display_name": "Python 3 (ipykernel)",
   "language": "python",
   "name": "python3"
  },
  "language_info": {
   "codemirror_mode": {
    "name": "ipython",
    "version": 3
   },
   "file_extension": ".py",
   "mimetype": "text/x-python",
   "name": "python",
   "nbconvert_exporter": "python",
   "pygments_lexer": "ipython3",
   "version": "3.11.5"
  }
 },
 "nbformat": 4,
 "nbformat_minor": 5
}
